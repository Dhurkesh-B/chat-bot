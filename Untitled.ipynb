{
 "cells": [
  {
   "cell_type": "code",
   "execution_count": 25,
   "id": "9e716953-31ac-419b-b573-ae9ed489cfe5",
   "metadata": {},
   "outputs": [],
   "source": [
    "from langchain_google_genai import GoogleGenerativeAI\n",
    "import os\n",
    "from dotenv import load_dotenv\n",
    "load_dotenv()\n",
    "llm = GoogleGenerativeAI(model='gemini-pro',google_api_key=os.environ['GOOGLE_API_KEY'])"
   ]
  },
  {
   "cell_type": "code",
   "execution_count": 26,
   "id": "fc9bcb9e-b748-473e-bddf-34cf9ca12f30",
   "metadata": {},
   "outputs": [
    {
     "name": "stdout",
     "output_type": "stream",
     "text": [
      "**The Dawn of Artificial Intelligence: Unlocking Transformative Potential**\n",
      "\n",
      "Artificial intelligence (AI), a rapidly evolving field, is revolutionizing industries and shaping our future. It has the potential to enhance efficiency, automate tasks, and provide unparalleled insights.\n",
      "\n",
      "**Capabilities and Applications:**\n",
      "\n",
      "AI encompasses a wide range of technologies, including:\n",
      "\n",
      "* **Machine Learning:** Algorithms that learn from data without explicit programming.\n",
      "* **Deep Learning:** Advanced neural networks that model complex relationships.\n",
      "* **Natural Language Processing:** Systems that understand and generate human language.\n",
      "* **Computer Vision:** Algorithms that analyze and interpret images.\n",
      "\n",
      "AI is finding applications in numerous sectors, including:\n",
      "\n",
      "* **Healthcare:** Diagnosis, treatment planning, and personalized medicine.\n",
      "* **Finance:** Risk assessment, fraud detection, and investment analysis.\n",
      "* **Manufacturing:** Automation, quality control, and predictive maintenance.\n",
      "* **Customer Service:** Chatbots, virtual assistants, and personalized recommendations.\n",
      "\n",
      "**Benefits and Challenges:**\n",
      "\n",
      "AI offers significant benefits:\n",
      "\n",
      "* **Increased Efficiency:** Automates repetitive tasks, freeing up human workers for more complex and creative endeavors.\n",
      "* **Improved Decision-Making:** Provides data-driven insights and predictions to support informed decisions.\n",
      "* **Personalized Experiences:** Tailors products and services to individual needs and preferences.\n",
      "\n",
      "However, AI also poses challenges:\n",
      "\n",
      "* **Job Displacement:** Automation can lead to job losses in certain sectors.\n",
      "* **Bias:** Algorithms trained on biased data can perpetuate and amplify existing prejudices.\n",
      "* **Ethical Implications:** Concerns arise over the use of AI in areas such as surveillance and autonomous weapons.\n",
      "\n",
      "**Future of AI:**\n",
      "\n",
      "The future of AI is both promising and uncertain. Continued advancements in technology will drive innovation and expand its applications. However, it is crucial to address ethical, societal, and economic challenges to ensure that AI benefits humanity equitably.\n",
      "\n",
      "**Conclusion:**\n",
      "\n",
      "AI is a transformative technology with the potential to reshape our world. By carefully managing its benefits and addressing its challenges, we can harness the power of AI to create a more efficient, productive, and equitable future.\n"
     ]
    }
   ],
   "source": [
    "print(llm('write about AI'))"
   ]
  },
  {
   "cell_type": "code",
   "execution_count": 27,
   "id": "4e49689d-dd13-4a99-9273-85b69f7c0b7e",
   "metadata": {},
   "outputs": [],
   "source": [
    "from langchain.utilities import SQLDatabase\n",
    "from langchain_experimental.sql import SQLDatabaseChain"
   ]
  },
  {
   "cell_type": "code",
   "execution_count": 32,
   "id": "c7232c50-3395-451f-a15c-a8561a8cf73e",
   "metadata": {},
   "outputs": [
    {
     "name": "stdout",
     "output_type": "stream",
     "text": [
      "\n",
      "CREATE TABLE sales_tb (\n",
      "\t`TransactionID` INTEGER, \n",
      "\t`Date` DATE, \n",
      "\t`CustomerID` VARCHAR(10), \n",
      "\t`Gender` VARCHAR(10), \n",
      "\t`Age` INTEGER, \n",
      "\t`ProductCategory` VARCHAR(50), \n",
      "\t`Quantity` INTEGER, \n",
      "\t`PriceperUnit` DECIMAL(10, 2), \n",
      "\t`TotalAmount` DECIMAL(10, 2)\n",
      ")COLLATE utf8mb4_0900_ai_ci ENGINE=InnoDB DEFAULT CHARSET=utf8mb4\n",
      "\n",
      "/*\n",
      "3 rows from sales_tb table:\n",
      "TransactionID\tDate\tCustomerID\tGender\tAge\tProductCategory\tQuantity\tPriceperUnit\tTotalAmount\n",
      "1\t2023-11-24\tCUST001\tMale\t34\tBeauty\t3\t50.00\t150.00\n",
      "2\t2023-02-27\tCUST002\tFemale\t26\tClothing\t2\t500.00\t1000.00\n",
      "3\t2023-01-13\tCUST003\tMale\t50\tElectronics\t1\t30.00\t30.00\n",
      "*/\n"
     ]
    }
   ],
   "source": [
    "dbUser = 'root'\n",
    "dbPassword = 'Dhurkesh3012'\n",
    "dbHost = 'localhost'\n",
    "dbName = 'retail_sales_db'\n",
    "db = SQLDatabase.from_uri(f'mysql+pymysql://{dbUser}:{dbPassword}@{dbHost}/{dbName}',sample_rows_in_table_info=3)\n",
    "print(db.table_info)"
   ]
  },
  {
   "cell_type": "code",
   "execution_count": 44,
   "id": "ee946a85-69e3-4838-842d-2f8946a54d7e",
   "metadata": {},
   "outputs": [
    {
     "ename": "TypeError",
     "evalue": "Expected a Runnable, callable or dict.Instead got an unsupported type: <class 'langchain_core.runnables.base.RunnableBinding'>",
     "output_type": "error",
     "traceback": [
      "\u001b[1;31m---------------------------------------------------------------------------\u001b[0m",
      "\u001b[1;31mTypeError\u001b[0m                                 Traceback (most recent call last)",
      "Cell \u001b[1;32mIn[44], line 2\u001b[0m\n\u001b[0;32m      1\u001b[0m \u001b[38;5;28;01mfrom\u001b[39;00m \u001b[38;5;21;01mlangchain\u001b[39;00m\u001b[38;5;21;01m.\u001b[39;00m\u001b[38;5;21;01mchains\u001b[39;00m \u001b[38;5;28;01mimport\u001b[39;00m create_sql_query_chain\n\u001b[1;32m----> 2\u001b[0m chain \u001b[38;5;241m=\u001b[39m \u001b[43mcreate_sql_query_chain\u001b[49m\u001b[43m(\u001b[49m\u001b[43mllm\u001b[49m\u001b[43m,\u001b[49m\u001b[43mdb\u001b[49m\u001b[43m)\u001b[49m\n\u001b[0;32m      3\u001b[0m respose \u001b[38;5;241m=\u001b[39m chain\u001b[38;5;241m.\u001b[39minvoke({\u001b[38;5;124m'\u001b[39m\u001b[38;5;124mquestion\u001b[39m\u001b[38;5;124m'\u001b[39m:\u001b[38;5;124m'\u001b[39m\u001b[38;5;124mHow many customers are there\u001b[39m\u001b[38;5;124m'\u001b[39m})\n\u001b[0;32m      4\u001b[0m respose\n",
      "File \u001b[1;32mc:\\Users\\dhurk\\anaconda3\\envs\\myenv\\lib\\site-packages\\langchain\\chains\\sql_database\\query.py:63\u001b[0m, in \u001b[0;36mcreate_sql_query_chain\u001b[1;34m(llm, db, prompt, k)\u001b[0m\n\u001b[0;32m     60\u001b[0m \u001b[38;5;28;01mif\u001b[39;00m \u001b[38;5;124m\"\u001b[39m\u001b[38;5;124mdialect\u001b[39m\u001b[38;5;124m\"\u001b[39m \u001b[38;5;129;01min\u001b[39;00m prompt_to_use\u001b[38;5;241m.\u001b[39minput_variables:\n\u001b[0;32m     61\u001b[0m     inputs[\u001b[38;5;124m\"\u001b[39m\u001b[38;5;124mdialect\u001b[39m\u001b[38;5;124m\"\u001b[39m] \u001b[38;5;241m=\u001b[39m \u001b[38;5;28;01mlambda\u001b[39;00m _: (db\u001b[38;5;241m.\u001b[39mdialect, prompt_to_use)\n\u001b[0;32m     62\u001b[0m \u001b[38;5;28;01mreturn\u001b[39;00m (\n\u001b[1;32m---> 63\u001b[0m     \u001b[43mRunnableMap\u001b[49m\u001b[43m(\u001b[49m\u001b[43minputs\u001b[49m\u001b[43m)\u001b[49m\n\u001b[0;32m     64\u001b[0m \u001b[43m    \u001b[49m\u001b[38;5;241;43m|\u001b[39;49m\u001b[43m \u001b[49m\u001b[43mprompt_to_use\u001b[49m\n\u001b[0;32m     65\u001b[0m \u001b[43m    \u001b[49m\u001b[38;5;241;43m|\u001b[39;49m\u001b[43m \u001b[49m\u001b[43mllm\u001b[49m\u001b[38;5;241;43m.\u001b[39;49m\u001b[43mbind\u001b[49m\u001b[43m(\u001b[49m\u001b[43mstop\u001b[49m\u001b[38;5;241;43m=\u001b[39;49m\u001b[43m[\u001b[49m\u001b[38;5;124;43m\"\u001b[39;49m\u001b[38;5;130;43;01m\\n\u001b[39;49;00m\u001b[38;5;124;43mSQLResult:\u001b[39;49m\u001b[38;5;124;43m\"\u001b[39;49m\u001b[43m]\u001b[49m\u001b[43m)\u001b[49m\n\u001b[0;32m     66\u001b[0m     \u001b[38;5;241m|\u001b[39m NoOpOutputParser()\n\u001b[0;32m     67\u001b[0m     \u001b[38;5;241m|\u001b[39m _strip\n\u001b[0;32m     68\u001b[0m )\n",
      "File \u001b[1;32mc:\\Users\\dhurk\\anaconda3\\envs\\myenv\\lib\\site-packages\\langchain\\schema\\runnable\\base.py:914\u001b[0m, in \u001b[0;36mRunnableSequence.__or__\u001b[1;34m(self, other)\u001b[0m\n\u001b[0;32m    905\u001b[0m     \u001b[38;5;28;01mreturn\u001b[39;00m RunnableSequence(\n\u001b[0;32m    906\u001b[0m         first\u001b[38;5;241m=\u001b[39m\u001b[38;5;28mself\u001b[39m\u001b[38;5;241m.\u001b[39mfirst,\n\u001b[0;32m    907\u001b[0m         middle\u001b[38;5;241m=\u001b[39m\u001b[38;5;28mself\u001b[39m\u001b[38;5;241m.\u001b[39mmiddle \u001b[38;5;241m+\u001b[39m [\u001b[38;5;28mself\u001b[39m\u001b[38;5;241m.\u001b[39mlast] \u001b[38;5;241m+\u001b[39m [other\u001b[38;5;241m.\u001b[39mfirst] \u001b[38;5;241m+\u001b[39m other\u001b[38;5;241m.\u001b[39mmiddle,\n\u001b[0;32m    908\u001b[0m         last\u001b[38;5;241m=\u001b[39mother\u001b[38;5;241m.\u001b[39mlast,\n\u001b[0;32m    909\u001b[0m     )\n\u001b[0;32m    910\u001b[0m \u001b[38;5;28;01melse\u001b[39;00m:\n\u001b[0;32m    911\u001b[0m     \u001b[38;5;28;01mreturn\u001b[39;00m RunnableSequence(\n\u001b[0;32m    912\u001b[0m         first\u001b[38;5;241m=\u001b[39m\u001b[38;5;28mself\u001b[39m\u001b[38;5;241m.\u001b[39mfirst,\n\u001b[0;32m    913\u001b[0m         middle\u001b[38;5;241m=\u001b[39m\u001b[38;5;28mself\u001b[39m\u001b[38;5;241m.\u001b[39mmiddle \u001b[38;5;241m+\u001b[39m [\u001b[38;5;28mself\u001b[39m\u001b[38;5;241m.\u001b[39mlast],\n\u001b[1;32m--> 914\u001b[0m         last\u001b[38;5;241m=\u001b[39m\u001b[43mcoerce_to_runnable\u001b[49m\u001b[43m(\u001b[49m\u001b[43mother\u001b[49m\u001b[43m)\u001b[49m,\n\u001b[0;32m    915\u001b[0m     )\n",
      "File \u001b[1;32mc:\\Users\\dhurk\\anaconda3\\envs\\myenv\\lib\\site-packages\\langchain\\schema\\runnable\\base.py:2077\u001b[0m, in \u001b[0;36mcoerce_to_runnable\u001b[1;34m(thing)\u001b[0m\n\u001b[0;32m   2075\u001b[0m     \u001b[38;5;28;01mreturn\u001b[39;00m cast(Runnable[Input, Output], RunnableMap(steps\u001b[38;5;241m=\u001b[39mrunnables))\n\u001b[0;32m   2076\u001b[0m \u001b[38;5;28;01melse\u001b[39;00m:\n\u001b[1;32m-> 2077\u001b[0m     \u001b[38;5;28;01mraise\u001b[39;00m \u001b[38;5;167;01mTypeError\u001b[39;00m(\n\u001b[0;32m   2078\u001b[0m         \u001b[38;5;124mf\u001b[39m\u001b[38;5;124m\"\u001b[39m\u001b[38;5;124mExpected a Runnable, callable or dict.\u001b[39m\u001b[38;5;124m\"\u001b[39m\n\u001b[0;32m   2079\u001b[0m         \u001b[38;5;124mf\u001b[39m\u001b[38;5;124m\"\u001b[39m\u001b[38;5;124mInstead got an unsupported type: \u001b[39m\u001b[38;5;132;01m{\u001b[39;00m\u001b[38;5;28mtype\u001b[39m(thing)\u001b[38;5;132;01m}\u001b[39;00m\u001b[38;5;124m\"\u001b[39m\n\u001b[0;32m   2080\u001b[0m     )\n",
      "\u001b[1;31mTypeError\u001b[0m: Expected a Runnable, callable or dict.Instead got an unsupported type: <class 'langchain_core.runnables.base.RunnableBinding'>"
     ]
    }
   ],
   "source": [
    "from langchain.chains import create_sql_query_chain\n",
    "chain = create_sql_query_chain(llm,db)\n",
    "respose = chain.invoke({'question':'How many customers are there'})\n",
    "respose"
   ]
  },
  {
   "cell_type": "code",
   "execution_count": 43,
   "id": "822efe0d-5ae6-461a-a6cc-e1654204179c",
   "metadata": {},
   "outputs": [
    {
     "name": "stdout",
     "output_type": "stream",
     "text": [
      "['Config', '__abstractmethods__', '__annotations__', '__class__', '__class_getitem__', '__class_vars__', '__config__', '__custom_root_type__', '__delattr__', '__dict__', '__dir__', '__doc__', '__eq__', '__exclude_fields__', '__fields__', '__fields_set__', '__format__', '__ge__', '__get_validators__', '__getattribute__', '__getstate__', '__gt__', '__hash__', '__include_fields__', '__init__', '__init_subclass__', '__iter__', '__json_encoder__', '__le__', '__lt__', '__module__', '__ne__', '__new__', '__or__', '__orig_bases__', '__parameters__', '__post_root_validators__', '__pre_root_validators__', '__pretty__', '__private_attributes__', '__reduce__', '__reduce_ex__', '__repr__', '__repr_args__', '__repr_name__', '__repr_str__', '__rich_repr__', '__ror__', '__schema_cache__', '__setattr__', '__setstate__', '__signature__', '__sizeof__', '__slots__', '__str__', '__subclasshook__', '__try_update_forward_refs__', '__validators__', '__weakref__', '_abatch_with_config', '_abc_impl', '_acall_with_config', '_all_required_field_names', '_atransform_stream_with_config', '_batch_with_config', '_calculate_keys', '_call_with_config', '_copy_and_set_values', '_decompose_class', '_enforce_dict_if_root', '_get_value', '_init_private_attributes', '_is_protocol', '_iter', '_lc_kwargs', '_transform_stream_with_config', 'abatch', 'agenerate_prompt', 'ainvoke', 'apredict', 'apredict_messages', 'astream', 'atransform', 'batch', 'bind', 'construct', 'copy', 'dict', 'from_orm', 'generate_prompt', 'get_num_tokens', 'get_num_tokens_from_messages', 'get_token_ids', 'invoke', 'json', 'lc_attributes', 'lc_namespace', 'lc_secrets', 'lc_serializable', 'map', 'parse_file', 'parse_obj', 'parse_raw', 'predict', 'predict_messages', 'schema', 'schema_json', 'stream', 'to_json', 'to_json_not_implemented', 'transform', 'update_forward_refs', 'validate', 'with_config', 'with_fallbacks', 'with_retry']\n",
      "['__class__', '__delattr__', '__dict__', '__dir__', '__doc__', '__eq__', '__format__', '__ge__', '__getattribute__', '__gt__', '__hash__', '__init__', '__init_subclass__', '__le__', '__lt__', '__module__', '__ne__', '__new__', '__reduce__', '__reduce_ex__', '__repr__', '__setattr__', '__sizeof__', '__str__', '__subclasshook__', '__weakref__', '_execute', '_get_sample_rows', '_get_table_indexes', 'dialect', 'from_cnosdb', 'from_databricks', 'from_uri', 'get_table_info', 'get_table_info_no_throw', 'get_table_names', 'get_usable_table_names', 'run', 'run_no_throw', 'table_info']\n"
     ]
    }
   ],
   "source": [
    "# Check the types in the library\n",
    "from langchain.schema import language_model as lm_schema\n",
    "print(dir(lm_schema.BaseLanguageModel))\n",
    "\n",
    "from langchain.utilities import sql_database as db_utils\n",
    "print(dir(db_utils.SQLDatabase))\n"
   ]
  },
  {
   "cell_type": "code",
   "execution_count": 45,
   "id": "edd70d0e-0615-4fc5-aec1-4b18ac4a3f31",
   "metadata": {},
   "outputs": [],
   "source": [
    "from langchain_google_genai import GoogleGenerativeAI\n",
    "\n",
    "import os\n",
    "from dotenv import load_dotenv\n",
    "load_dotenv() \n",
    "\n",
    "#llm = GoogleGenerativeAI(model=\"models/text-bison-001\", google_api_key=os.environ[\"GOOGLE_API_KEY\"])\n",
    "llm = GoogleGenerativeAI(model=\"gemini-pro\", google_api_key=os.environ[\"GOOGLE_API_KEY\"])"
   ]
  },
  {
   "cell_type": "code",
   "execution_count": 46,
   "id": "ca94af2c-491d-4a95-89d1-bc6e2cbaefe8",
   "metadata": {},
   "outputs": [
    {
     "name": "stdout",
     "output_type": "stream",
     "text": [
      "Generative AI is a type of artificial intelligence that can create new data or content from scratch. Unlike traditional AI systems that are trained on existing data, generative AI can generate novel outputs that are not explicitly programmed or included in the training dataset.\n",
      "\n",
      "Generative AI models are often trained on large amounts of data, such as text, images, or audio, and they learn to identify patterns and relationships in the data. This allows them to generate new content that is similar to the data they were trained on, but with unique variations and combinations.\n",
      "\n",
      "Some common applications of generative AI include:\n",
      "\n",
      "* Generating text, such as articles, stories, and even poetry\n",
      "* Creating images, such as realistic landscapes, portraits, and abstract art\n",
      "* Composing music, from simple melodies to complex symphonies\n",
      "* Developing new drug compounds and materials\n",
      "\n",
      "Generative AI has the potential to revolutionize many industries, from entertainment and media to healthcare and manufacturing. It can help us create new products, services, and experiences that were previously impossible.\n"
     ]
    }
   ],
   "source": [
    "print(llm(\"write few lines on Generative AI\"))"
   ]
  },
  {
   "cell_type": "code",
   "execution_count": 47,
   "id": "754edd79-64a6-4d1f-90fa-695ca15b9e64",
   "metadata": {},
   "outputs": [],
   "source": [
    "from langchain_experimental.sql import SQLDatabaseChain\n",
    "\n",
    "from langchain.utilities import SQLDatabase"
   ]
  },
  {
   "cell_type": "code",
   "execution_count": 49,
   "id": "d09dbfb8-cfd7-4215-9f25-f494e6cc8352",
   "metadata": {},
   "outputs": [
    {
     "name": "stdout",
     "output_type": "stream",
     "text": [
      "\n",
      "CREATE TABLE sales_tb (\n",
      "\t`TransactionID` INTEGER, \n",
      "\t`Date` DATE, \n",
      "\t`CustomerID` VARCHAR(10), \n",
      "\t`Gender` VARCHAR(10), \n",
      "\t`Age` INTEGER, \n",
      "\t`ProductCategory` VARCHAR(50), \n",
      "\t`Quantity` INTEGER, \n",
      "\t`PriceperUnit` DECIMAL(10, 2), \n",
      "\t`TotalAmount` DECIMAL(10, 2)\n",
      ")COLLATE utf8mb4_0900_ai_ci ENGINE=InnoDB DEFAULT CHARSET=utf8mb4\n",
      "\n",
      "/*\n",
      "3 rows from sales_tb table:\n",
      "TransactionID\tDate\tCustomerID\tGender\tAge\tProductCategory\tQuantity\tPriceperUnit\tTotalAmount\n",
      "1\t2023-11-24\tCUST001\tMale\t34\tBeauty\t3\t50.00\t150.00\n",
      "2\t2023-02-27\tCUST002\tFemale\t26\tClothing\t2\t500.00\t1000.00\n",
      "3\t2023-01-13\tCUST003\tMale\t50\tElectronics\t1\t30.00\t30.00\n",
      "*/\n"
     ]
    }
   ],
   "source": [
    "db_user = \"root\"\n",
    "db_password = \"Dhurkesh3012\"\n",
    "db_host = \"localhost\"\n",
    "db_name = \"retail_sales_db\"\n",
    "\n",
    "db = SQLDatabase.from_uri(f\"mysql+pymysql://{db_user}:{db_password}@{db_host}/{db_name}\",sample_rows_in_table_info=3)\n",
    "\n",
    "\n",
    "print(db.table_info)"
   ]
  },
  {
   "cell_type": "code",
   "execution_count": 50,
   "id": "e82cd02f-8f67-45e1-b0aa-6c1ff3f4a47d",
   "metadata": {},
   "outputs": [
    {
     "ename": "TypeError",
     "evalue": "Expected a Runnable, callable or dict.Instead got an unsupported type: <class 'langchain_core.runnables.base.RunnableBinding'>",
     "output_type": "error",
     "traceback": [
      "\u001b[1;31m---------------------------------------------------------------------------\u001b[0m",
      "\u001b[1;31mTypeError\u001b[0m                                 Traceback (most recent call last)",
      "Cell \u001b[1;32mIn[50], line 4\u001b[0m\n\u001b[0;32m      1\u001b[0m \u001b[38;5;66;03m#Convert question to SQL query\u001b[39;00m\n\u001b[0;32m      2\u001b[0m \u001b[38;5;28;01mfrom\u001b[39;00m \u001b[38;5;21;01mlangchain\u001b[39;00m\u001b[38;5;21;01m.\u001b[39;00m\u001b[38;5;21;01mchains\u001b[39;00m \u001b[38;5;28;01mimport\u001b[39;00m create_sql_query_chain\n\u001b[1;32m----> 4\u001b[0m chain \u001b[38;5;241m=\u001b[39m \u001b[43mcreate_sql_query_chain\u001b[49m\u001b[43m(\u001b[49m\u001b[43mllm\u001b[49m\u001b[43m,\u001b[49m\u001b[43m \u001b[49m\u001b[43mdb\u001b[49m\u001b[43m)\u001b[49m\n\u001b[0;32m      5\u001b[0m response \u001b[38;5;241m=\u001b[39m chain\u001b[38;5;241m.\u001b[39minvoke({\u001b[38;5;124m\"\u001b[39m\u001b[38;5;124mquestion\u001b[39m\u001b[38;5;124m\"\u001b[39m: \u001b[38;5;124m\"\u001b[39m\u001b[38;5;124mHow many customers are there\u001b[39m\u001b[38;5;124m\"\u001b[39m})\n\u001b[0;32m      6\u001b[0m response\n",
      "File \u001b[1;32mc:\\Users\\dhurk\\anaconda3\\envs\\myenv\\lib\\site-packages\\langchain\\chains\\sql_database\\query.py:63\u001b[0m, in \u001b[0;36mcreate_sql_query_chain\u001b[1;34m(llm, db, prompt, k)\u001b[0m\n\u001b[0;32m     60\u001b[0m \u001b[38;5;28;01mif\u001b[39;00m \u001b[38;5;124m\"\u001b[39m\u001b[38;5;124mdialect\u001b[39m\u001b[38;5;124m\"\u001b[39m \u001b[38;5;129;01min\u001b[39;00m prompt_to_use\u001b[38;5;241m.\u001b[39minput_variables:\n\u001b[0;32m     61\u001b[0m     inputs[\u001b[38;5;124m\"\u001b[39m\u001b[38;5;124mdialect\u001b[39m\u001b[38;5;124m\"\u001b[39m] \u001b[38;5;241m=\u001b[39m \u001b[38;5;28;01mlambda\u001b[39;00m _: (db\u001b[38;5;241m.\u001b[39mdialect, prompt_to_use)\n\u001b[0;32m     62\u001b[0m \u001b[38;5;28;01mreturn\u001b[39;00m (\n\u001b[1;32m---> 63\u001b[0m     \u001b[43mRunnableMap\u001b[49m\u001b[43m(\u001b[49m\u001b[43minputs\u001b[49m\u001b[43m)\u001b[49m\n\u001b[0;32m     64\u001b[0m \u001b[43m    \u001b[49m\u001b[38;5;241;43m|\u001b[39;49m\u001b[43m \u001b[49m\u001b[43mprompt_to_use\u001b[49m\n\u001b[0;32m     65\u001b[0m \u001b[43m    \u001b[49m\u001b[38;5;241;43m|\u001b[39;49m\u001b[43m \u001b[49m\u001b[43mllm\u001b[49m\u001b[38;5;241;43m.\u001b[39;49m\u001b[43mbind\u001b[49m\u001b[43m(\u001b[49m\u001b[43mstop\u001b[49m\u001b[38;5;241;43m=\u001b[39;49m\u001b[43m[\u001b[49m\u001b[38;5;124;43m\"\u001b[39;49m\u001b[38;5;130;43;01m\\n\u001b[39;49;00m\u001b[38;5;124;43mSQLResult:\u001b[39;49m\u001b[38;5;124;43m\"\u001b[39;49m\u001b[43m]\u001b[49m\u001b[43m)\u001b[49m\n\u001b[0;32m     66\u001b[0m     \u001b[38;5;241m|\u001b[39m NoOpOutputParser()\n\u001b[0;32m     67\u001b[0m     \u001b[38;5;241m|\u001b[39m _strip\n\u001b[0;32m     68\u001b[0m )\n",
      "File \u001b[1;32mc:\\Users\\dhurk\\anaconda3\\envs\\myenv\\lib\\site-packages\\langchain\\schema\\runnable\\base.py:914\u001b[0m, in \u001b[0;36mRunnableSequence.__or__\u001b[1;34m(self, other)\u001b[0m\n\u001b[0;32m    905\u001b[0m     \u001b[38;5;28;01mreturn\u001b[39;00m RunnableSequence(\n\u001b[0;32m    906\u001b[0m         first\u001b[38;5;241m=\u001b[39m\u001b[38;5;28mself\u001b[39m\u001b[38;5;241m.\u001b[39mfirst,\n\u001b[0;32m    907\u001b[0m         middle\u001b[38;5;241m=\u001b[39m\u001b[38;5;28mself\u001b[39m\u001b[38;5;241m.\u001b[39mmiddle \u001b[38;5;241m+\u001b[39m [\u001b[38;5;28mself\u001b[39m\u001b[38;5;241m.\u001b[39mlast] \u001b[38;5;241m+\u001b[39m [other\u001b[38;5;241m.\u001b[39mfirst] \u001b[38;5;241m+\u001b[39m other\u001b[38;5;241m.\u001b[39mmiddle,\n\u001b[0;32m    908\u001b[0m         last\u001b[38;5;241m=\u001b[39mother\u001b[38;5;241m.\u001b[39mlast,\n\u001b[0;32m    909\u001b[0m     )\n\u001b[0;32m    910\u001b[0m \u001b[38;5;28;01melse\u001b[39;00m:\n\u001b[0;32m    911\u001b[0m     \u001b[38;5;28;01mreturn\u001b[39;00m RunnableSequence(\n\u001b[0;32m    912\u001b[0m         first\u001b[38;5;241m=\u001b[39m\u001b[38;5;28mself\u001b[39m\u001b[38;5;241m.\u001b[39mfirst,\n\u001b[0;32m    913\u001b[0m         middle\u001b[38;5;241m=\u001b[39m\u001b[38;5;28mself\u001b[39m\u001b[38;5;241m.\u001b[39mmiddle \u001b[38;5;241m+\u001b[39m [\u001b[38;5;28mself\u001b[39m\u001b[38;5;241m.\u001b[39mlast],\n\u001b[1;32m--> 914\u001b[0m         last\u001b[38;5;241m=\u001b[39m\u001b[43mcoerce_to_runnable\u001b[49m\u001b[43m(\u001b[49m\u001b[43mother\u001b[49m\u001b[43m)\u001b[49m,\n\u001b[0;32m    915\u001b[0m     )\n",
      "File \u001b[1;32mc:\\Users\\dhurk\\anaconda3\\envs\\myenv\\lib\\site-packages\\langchain\\schema\\runnable\\base.py:2077\u001b[0m, in \u001b[0;36mcoerce_to_runnable\u001b[1;34m(thing)\u001b[0m\n\u001b[0;32m   2075\u001b[0m     \u001b[38;5;28;01mreturn\u001b[39;00m cast(Runnable[Input, Output], RunnableMap(steps\u001b[38;5;241m=\u001b[39mrunnables))\n\u001b[0;32m   2076\u001b[0m \u001b[38;5;28;01melse\u001b[39;00m:\n\u001b[1;32m-> 2077\u001b[0m     \u001b[38;5;28;01mraise\u001b[39;00m \u001b[38;5;167;01mTypeError\u001b[39;00m(\n\u001b[0;32m   2078\u001b[0m         \u001b[38;5;124mf\u001b[39m\u001b[38;5;124m\"\u001b[39m\u001b[38;5;124mExpected a Runnable, callable or dict.\u001b[39m\u001b[38;5;124m\"\u001b[39m\n\u001b[0;32m   2079\u001b[0m         \u001b[38;5;124mf\u001b[39m\u001b[38;5;124m\"\u001b[39m\u001b[38;5;124mInstead got an unsupported type: \u001b[39m\u001b[38;5;132;01m{\u001b[39;00m\u001b[38;5;28mtype\u001b[39m(thing)\u001b[38;5;132;01m}\u001b[39;00m\u001b[38;5;124m\"\u001b[39m\n\u001b[0;32m   2080\u001b[0m     )\n",
      "\u001b[1;31mTypeError\u001b[0m: Expected a Runnable, callable or dict.Instead got an unsupported type: <class 'langchain_core.runnables.base.RunnableBinding'>"
     ]
    }
   ],
   "source": [
    "\n",
    "#Convert question to SQL query\n",
    "from langchain.chains import create_sql_query_chain\n",
    "\n",
    "chain = create_sql_query_chain(llm, db)\n",
    "response = chain.invoke({\"question\": \"How many customers are there\"})\n",
    "response"
   ]
  },
  {
   "cell_type": "code",
   "execution_count": null,
   "id": "943d69ce-99cb-4ef5-bdb1-741c9f5c66a2",
   "metadata": {},
   "outputs": [],
   "source": []
  }
 ],
 "metadata": {
  "kernelspec": {
   "display_name": "Python 3 (ipykernel)",
   "language": "python",
   "name": "python3"
  },
  "language_info": {
   "codemirror_mode": {
    "name": "ipython",
    "version": 3
   },
   "file_extension": ".py",
   "mimetype": "text/x-python",
   "name": "python",
   "nbconvert_exporter": "python",
   "pygments_lexer": "ipython3",
   "version": "3.10.14"
  }
 },
 "nbformat": 4,
 "nbformat_minor": 5
}
